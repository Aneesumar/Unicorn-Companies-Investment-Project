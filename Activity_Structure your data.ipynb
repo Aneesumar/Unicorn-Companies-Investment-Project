{
 "cells": [
  {
   "cell_type": "markdown",
   "metadata": {
    "id": "1WD1hC5MTRMS"
   },
   "source": [
    "# Activity: Structure your data "
   ]
  },
  {
   "cell_type": "markdown",
   "metadata": {
    "id": "ee31943b-274e-4c28-bce6-155cb6f4c334"
   },
   "source": [
    "## Introduction\n",
    "\n",
    "In this activity, we will practice structuring, an **exploratory data analysis (EDA)** step that helps data science projects move forward. During EDA, when working with data that contains aspects of date and time, \"datetime\" transformations are integral to better understanding the data. As a data professional, we will encounter datetime transformations quite often as we determine how to format your data to suit the problems we want to solve or the questions we want to answer. This activity gives us an opportunity to apply these skills and prepare ourselves for future EDA, where we will need to determine how best to structure our data.\n",
    "\n",
    "In this activity, we are a member of an analytics team that provides insights to an investing firm. To help them decide which companies to invest in next, the firm wants insights into **unicorn companies**–companies that are valued at over one billion dollars.  \n",
    "\n",
    "We will work with a dataset about unicorn companies, discovering characteristics of the data, structuring the data in ways that will help us draw meaningful insights, and using visualizations to analyze the data. Ultimately, we will draw conclusions about what significant trends or patterns we find in the dataset. This will develop our skills in EDA and our knowledge of functions that allow us to structure data.\n",
    "\n",
    "\n",
    "\n"
   ]
  },
  {
   "cell_type": "markdown",
   "metadata": {
    "id": "4bb9630e-b940-4835-a389-d39def1fa848"
   },
   "source": [
    "## Step 1: Imports "
   ]
  },
  {
   "cell_type": "markdown",
   "metadata": {
    "id": "bc180686-4ae2-47ea-a292-3588ac60a820"
   },
   "source": [
    "### Import relevant libraries and modules\n",
    "\n",
    "Import the relevant Python libraries and modules that you will need to use. In this activity, you will use `pandas`, `numpy`, `seaborn`, and `matplotlib.pyplot`."
   ]
  },
  {
   "cell_type": "code",
   "execution_count": 12,
   "metadata": {
    "id": "8e7f1f2c-bbcc-4f3c-b927-b090ee8334c4"
   },
   "outputs": [],
   "source": [
    "# Import the relevant Python libraries and modules needed in this lab.\n",
    "\n",
    "### YOUR CODE HERE ###\n",
    "import pandas as pd\n",
    "import numpy as np\n",
    "import seaborn as sns\n",
    "import matplotlib.pyplot as plt"
   ]
  },
  {
   "cell_type": "markdown",
   "metadata": {
    "id": "7d29c6bd-f194-46bb-b794-56dc20130473"
   },
   "source": [
    "### Load the dataset into a DataFrame\n",
    "\n",
    "The dataset provided is in the form of a csv file named `Unicorn_Companies.csv` and contains a subset of data on unicorn companies. As shown in this cell, the dataset has been automatically loaded in for you. You do not need to download the .csv file, or provide more code, in order to access the dataset and proceed with this lab. Please continue with this activity by completing the following instructions."
   ]
  },
  {
   "cell_type": "code",
   "execution_count": 13,
   "metadata": {
    "id": "3bd40d44-080f-4e49-b0c2-160dedc3c4df"
   },
   "outputs": [],
   "source": [
    "# RUN THIS CELL TO IMPORT YOUR DATA.\n",
    "\n",
    "### YOUR CODE HERE ###\n",
    "companies = pd.read_csv(\"Unicorn_Companies.csv\")"
   ]
  },
  {
   "cell_type": "markdown",
   "metadata": {
    "id": "95bf39c9-d05c-4324-a40b-bc692607b61b"
   },
   "source": [
    "## Step 2: Data exploration\n"
   ]
  },
  {
   "cell_type": "markdown",
   "metadata": {
    "id": "pEeiG2M76OLH"
   },
   "source": [
    "### Display the first 10 rows of the data\n",
    "\n",
    "In this section, you will discover what the dataset entails and answer questions to guide your exploration and analysis of the data. This is an important step in EDA. \n",
    "\n",
    "To begin, display the first 10 rows of the data to get an understanding of how the dataset is structured. "
   ]
  },
  {
   "cell_type": "code",
   "execution_count": 14,
   "metadata": {
    "id": "ad5210a5-7a64-4991-b004-de818cfaf506"
   },
   "outputs": [
    {
     "data": {
      "text/html": [
       "<div>\n",
       "<style scoped>\n",
       "    .dataframe tbody tr th:only-of-type {\n",
       "        vertical-align: middle;\n",
       "    }\n",
       "\n",
       "    .dataframe tbody tr th {\n",
       "        vertical-align: top;\n",
       "    }\n",
       "\n",
       "    .dataframe thead th {\n",
       "        text-align: right;\n",
       "    }\n",
       "</style>\n",
       "<table border=\"1\" class=\"dataframe\">\n",
       "  <thead>\n",
       "    <tr style=\"text-align: right;\">\n",
       "      <th></th>\n",
       "      <th>Company</th>\n",
       "      <th>Valuation</th>\n",
       "      <th>Date Joined</th>\n",
       "      <th>Industry</th>\n",
       "      <th>City</th>\n",
       "      <th>Country/Region</th>\n",
       "      <th>Continent</th>\n",
       "      <th>Year Founded</th>\n",
       "      <th>Funding</th>\n",
       "      <th>Select Investors</th>\n",
       "    </tr>\n",
       "  </thead>\n",
       "  <tbody>\n",
       "    <tr>\n",
       "      <th>0</th>\n",
       "      <td>Bytedance</td>\n",
       "      <td>$180B</td>\n",
       "      <td>4/7/17</td>\n",
       "      <td>Artificial intelligence</td>\n",
       "      <td>Beijing</td>\n",
       "      <td>China</td>\n",
       "      <td>Asia</td>\n",
       "      <td>2012</td>\n",
       "      <td>$8B</td>\n",
       "      <td>Sequoia Capital China, SIG Asia Investments, S...</td>\n",
       "    </tr>\n",
       "    <tr>\n",
       "      <th>1</th>\n",
       "      <td>SpaceX</td>\n",
       "      <td>$100B</td>\n",
       "      <td>12/1/12</td>\n",
       "      <td>Other</td>\n",
       "      <td>Hawthorne</td>\n",
       "      <td>United States</td>\n",
       "      <td>North America</td>\n",
       "      <td>2002</td>\n",
       "      <td>$7B</td>\n",
       "      <td>Founders Fund, Draper Fisher Jurvetson, Rothen...</td>\n",
       "    </tr>\n",
       "    <tr>\n",
       "      <th>2</th>\n",
       "      <td>SHEIN</td>\n",
       "      <td>$100B</td>\n",
       "      <td>7/3/18</td>\n",
       "      <td>E-commerce &amp; direct-to-consumer</td>\n",
       "      <td>Shenzhen</td>\n",
       "      <td>China</td>\n",
       "      <td>Asia</td>\n",
       "      <td>2008</td>\n",
       "      <td>$2B</td>\n",
       "      <td>Tiger Global Management, Sequoia Capital China...</td>\n",
       "    </tr>\n",
       "    <tr>\n",
       "      <th>3</th>\n",
       "      <td>Stripe</td>\n",
       "      <td>$95B</td>\n",
       "      <td>1/23/14</td>\n",
       "      <td>Fintech</td>\n",
       "      <td>San Francisco</td>\n",
       "      <td>United States</td>\n",
       "      <td>North America</td>\n",
       "      <td>2010</td>\n",
       "      <td>$2B</td>\n",
       "      <td>Khosla Ventures, LowercaseCapital, capitalG</td>\n",
       "    </tr>\n",
       "    <tr>\n",
       "      <th>4</th>\n",
       "      <td>Klarna</td>\n",
       "      <td>$46B</td>\n",
       "      <td>12/12/11</td>\n",
       "      <td>Fintech</td>\n",
       "      <td>Stockholm</td>\n",
       "      <td>Sweden</td>\n",
       "      <td>Europe</td>\n",
       "      <td>2005</td>\n",
       "      <td>$4B</td>\n",
       "      <td>Institutional Venture Partners, Sequoia Capita...</td>\n",
       "    </tr>\n",
       "    <tr>\n",
       "      <th>5</th>\n",
       "      <td>Canva</td>\n",
       "      <td>$40B</td>\n",
       "      <td>1/8/18</td>\n",
       "      <td>Internet software &amp; services</td>\n",
       "      <td>Surry Hills</td>\n",
       "      <td>Australia</td>\n",
       "      <td>Oceania</td>\n",
       "      <td>2012</td>\n",
       "      <td>$572M</td>\n",
       "      <td>Sequoia Capital China, Blackbird Ventures, Mat...</td>\n",
       "    </tr>\n",
       "    <tr>\n",
       "      <th>6</th>\n",
       "      <td>Checkout.com</td>\n",
       "      <td>$40B</td>\n",
       "      <td>5/2/19</td>\n",
       "      <td>Fintech</td>\n",
       "      <td>London</td>\n",
       "      <td>United Kingdom</td>\n",
       "      <td>Europe</td>\n",
       "      <td>2012</td>\n",
       "      <td>$2B</td>\n",
       "      <td>Tiger Global Management, Insight Partners, DST...</td>\n",
       "    </tr>\n",
       "    <tr>\n",
       "      <th>7</th>\n",
       "      <td>Instacart</td>\n",
       "      <td>$39B</td>\n",
       "      <td>12/30/14</td>\n",
       "      <td>Supply chain, logistics, &amp; delivery</td>\n",
       "      <td>San Francisco</td>\n",
       "      <td>United States</td>\n",
       "      <td>North America</td>\n",
       "      <td>2012</td>\n",
       "      <td>$3B</td>\n",
       "      <td>Khosla Ventures, Kleiner Perkins Caufield &amp; By...</td>\n",
       "    </tr>\n",
       "    <tr>\n",
       "      <th>8</th>\n",
       "      <td>JUUL Labs</td>\n",
       "      <td>$38B</td>\n",
       "      <td>12/20/17</td>\n",
       "      <td>Consumer &amp; retail</td>\n",
       "      <td>San Francisco</td>\n",
       "      <td>United States</td>\n",
       "      <td>North America</td>\n",
       "      <td>2015</td>\n",
       "      <td>$14B</td>\n",
       "      <td>Tiger Global Management</td>\n",
       "    </tr>\n",
       "    <tr>\n",
       "      <th>9</th>\n",
       "      <td>Databricks</td>\n",
       "      <td>$38B</td>\n",
       "      <td>2/5/19</td>\n",
       "      <td>Data management &amp; analytics</td>\n",
       "      <td>San Francisco</td>\n",
       "      <td>United States</td>\n",
       "      <td>North America</td>\n",
       "      <td>2013</td>\n",
       "      <td>$3B</td>\n",
       "      <td>Andreessen Horowitz, New Enterprise Associates...</td>\n",
       "    </tr>\n",
       "  </tbody>\n",
       "</table>\n",
       "</div>"
      ],
      "text/plain": [
       "        Company Valuation Date Joined                             Industry  \\\n",
       "0     Bytedance     $180B      4/7/17              Artificial intelligence   \n",
       "1        SpaceX     $100B     12/1/12                                Other   \n",
       "2         SHEIN     $100B      7/3/18      E-commerce & direct-to-consumer   \n",
       "3        Stripe      $95B     1/23/14                              Fintech   \n",
       "4        Klarna      $46B    12/12/11                              Fintech   \n",
       "5         Canva      $40B      1/8/18         Internet software & services   \n",
       "6  Checkout.com      $40B      5/2/19                              Fintech   \n",
       "7     Instacart      $39B    12/30/14  Supply chain, logistics, & delivery   \n",
       "8     JUUL Labs      $38B    12/20/17                    Consumer & retail   \n",
       "9    Databricks      $38B      2/5/19          Data management & analytics   \n",
       "\n",
       "            City  Country/Region      Continent  Year Founded Funding  \\\n",
       "0        Beijing           China           Asia          2012     $8B   \n",
       "1      Hawthorne   United States  North America          2002     $7B   \n",
       "2       Shenzhen           China           Asia          2008     $2B   \n",
       "3  San Francisco   United States  North America          2010     $2B   \n",
       "4      Stockholm          Sweden         Europe          2005     $4B   \n",
       "5    Surry Hills       Australia        Oceania          2012   $572M   \n",
       "6         London  United Kingdom         Europe          2012     $2B   \n",
       "7  San Francisco   United States  North America          2012     $3B   \n",
       "8  San Francisco   United States  North America          2015    $14B   \n",
       "9  San Francisco   United States  North America          2013     $3B   \n",
       "\n",
       "                                    Select Investors  \n",
       "0  Sequoia Capital China, SIG Asia Investments, S...  \n",
       "1  Founders Fund, Draper Fisher Jurvetson, Rothen...  \n",
       "2  Tiger Global Management, Sequoia Capital China...  \n",
       "3        Khosla Ventures, LowercaseCapital, capitalG  \n",
       "4  Institutional Venture Partners, Sequoia Capita...  \n",
       "5  Sequoia Capital China, Blackbird Ventures, Mat...  \n",
       "6  Tiger Global Management, Insight Partners, DST...  \n",
       "7  Khosla Ventures, Kleiner Perkins Caufield & By...  \n",
       "8                            Tiger Global Management  \n",
       "9  Andreessen Horowitz, New Enterprise Associates...  "
      ]
     },
     "execution_count": 14,
     "metadata": {},
     "output_type": "execute_result"
    }
   ],
   "source": [
    "# Display the first 10 rows of the data.\n",
    "\n",
    "### YOUR CODE HERE ###\n",
    "\n",
    "companies.head(10)"
   ]
  },
  {
   "cell_type": "markdown",
   "metadata": {
    "id": "e31095a6-5526-42d3-b1c0-b77c1f8b3852"
   },
   "source": [
    "### Identify the number of rows and columns\n",
    "\n",
    "Identify the number of rows and columns in the dataset. This will help you get a sense of how much data you are working with."
   ]
  },
  {
   "cell_type": "code",
   "execution_count": 15,
   "metadata": {
    "id": "df3c71a1-2519-4c50-86c2-63902a534d27"
   },
   "outputs": [
    {
     "data": {
      "text/plain": [
       "(1074, 10)"
      ]
     },
     "execution_count": 15,
     "metadata": {},
     "output_type": "execute_result"
    }
   ],
   "source": [
    "# Identify the number of rows and columns in the dataset.\n",
    "\n",
    "### YOUR CODE HERE ###\n",
    "\n",
    "companies.shape"
   ]
  },
  {
   "cell_type": "markdown",
   "metadata": {
    "id": "4c2998a8-f864-43eb-a2d5-64845ebc805c"
   },
   "source": [
    "**Question:** How many rows and columns are in the dataset? How many unicorn companies are there? How many aspects are shown for each company?\n",
    "\n",
    "- There are 1074 rows and 10 columns in the dataset.\n",
    "- According to this dataset, there are 1074 unicorn companies, as of March 2022. \n",
    "- This dataset shows 10 aspects of each company. \n"
   ]
  },
  {
   "cell_type": "code",
   "execution_count": 16,
   "metadata": {
    "id": "3eT0fgc__MY9"
   },
   "outputs": [
    {
     "data": {
      "text/plain": [
       "(1074, 10)"
      ]
     },
     "execution_count": 16,
     "metadata": {},
     "output_type": "execute_result"
    }
   ],
   "source": [
    "# Check for duplicates.\n",
    "\n",
    "### YOUR CODE HERE ###\n",
    "companies = companies.drop_duplicates()\n",
    "companies.shape"
   ]
  },
  {
   "cell_type": "markdown",
   "metadata": {
    "id": "-6S3zT-l_ydL"
   },
   "source": [
    "**Question:** Based on the preceding output, are there any duplicates in the dataset?\n",
    "\n",
    "- Since the shape that is returned after dropping duplicates is the same as the shape of the original DataFrame, you can infer that there are no duplicate values in the dataset. \n"
   ]
  },
  {
   "cell_type": "markdown",
   "metadata": {
    "id": "fgD6IfeBsNW8"
   },
   "source": [
    "### Display the data types of the columns \n",
    "\n",
    "Knowing the data types of the columns is helpful because it indicates what types of analysis and aggregation can be done, how a column can be transformed to suit specific tasks, and so on. Display the data types of the columns. "
   ]
  },
  {
   "cell_type": "code",
   "execution_count": 17,
   "metadata": {
    "id": "PjO2hGK2r8vN"
   },
   "outputs": [
    {
     "name": "stdout",
     "output_type": "stream",
     "text": [
      "<class 'pandas.core.frame.DataFrame'>\n",
      "Int64Index: 1074 entries, 0 to 1073\n",
      "Data columns (total 10 columns):\n",
      " #   Column            Non-Null Count  Dtype \n",
      "---  ------            --------------  ----- \n",
      " 0   Company           1074 non-null   object\n",
      " 1   Valuation         1074 non-null   object\n",
      " 2   Date Joined       1074 non-null   object\n",
      " 3   Industry          1074 non-null   object\n",
      " 4   City              1058 non-null   object\n",
      " 5   Country/Region    1074 non-null   object\n",
      " 6   Continent         1074 non-null   object\n",
      " 7   Year Founded      1074 non-null   int64 \n",
      " 8   Funding           1074 non-null   object\n",
      " 9   Select Investors  1073 non-null   object\n",
      "dtypes: int64(1), object(9)\n",
      "memory usage: 92.3+ KB\n"
     ]
    }
   ],
   "source": [
    "# Display the data types of the columns.\n",
    "\n",
    "### YOUR CODE HERE ###\n",
    "companies.info()\n"
   ]
  },
  {
   "cell_type": "markdown",
   "metadata": {
    "id": "bd6573bc-2adb-410e-a85c-d6d5886d51bf"
   },
   "source": [
    "**Question:** What do you notice about the data types of the columns in the dataset?\n",
    "\n",
    "- The data type of the `Year Founded` column is `int64`. \n",
    "- The rest of the columns have the data type `object`.\n"
   ]
  },
  {
   "cell_type": "markdown",
   "metadata": {
    "id": "cAfmH6tjHYiq"
   },
   "source": [
    "**Question:** How would you sort this dataset in order to get insights about when the companies were founded? Then, how would you arrange the data from companies that were founded the earliest to companies that were founded the latest?\n",
    "\n",
    "- Sort by `Year Founded`.\n",
    "  - Sort by `Year Founded` in ascending order to arrange the data from companies that were founded the earliest to companies that were founded the latest.\n"
   ]
  },
  {
   "cell_type": "markdown",
   "metadata": {
    "id": "1ZqTQXEN9WbW"
   },
   "source": [
    "### Sort the data\n",
    "\n",
    "In this section, you will continue your exploratory data analysis by structuring the data. This is an important step in EDA, as it allows you to glean valuable and interesting insights about the data afterwards.\n",
    "\n",
    "To begin, sort the data so that you can get insights about when the companies were founded. Consider whether it would make sense to sort in ascending or descending order based on what you would like to find."
   ]
  },
  {
   "cell_type": "code",
   "execution_count": 18,
   "metadata": {
    "id": "sjWPuI-xKDat"
   },
   "outputs": [
    {
     "data": {
      "text/html": [
       "<div>\n",
       "<style scoped>\n",
       "    .dataframe tbody tr th:only-of-type {\n",
       "        vertical-align: middle;\n",
       "    }\n",
       "\n",
       "    .dataframe tbody tr th {\n",
       "        vertical-align: top;\n",
       "    }\n",
       "\n",
       "    .dataframe thead th {\n",
       "        text-align: right;\n",
       "    }\n",
       "</style>\n",
       "<table border=\"1\" class=\"dataframe\">\n",
       "  <thead>\n",
       "    <tr style=\"text-align: right;\">\n",
       "      <th></th>\n",
       "      <th>Company</th>\n",
       "      <th>Valuation</th>\n",
       "      <th>Date Joined</th>\n",
       "      <th>Industry</th>\n",
       "      <th>City</th>\n",
       "      <th>Country/Region</th>\n",
       "      <th>Continent</th>\n",
       "      <th>Year Founded</th>\n",
       "      <th>Funding</th>\n",
       "      <th>Select Investors</th>\n",
       "    </tr>\n",
       "  </thead>\n",
       "  <tbody>\n",
       "    <tr>\n",
       "      <th>782</th>\n",
       "      <td>Phantom</td>\n",
       "      <td>$1B</td>\n",
       "      <td>1/31/22</td>\n",
       "      <td>Fintech</td>\n",
       "      <td>San Francisco</td>\n",
       "      <td>United States</td>\n",
       "      <td>North America</td>\n",
       "      <td>2021</td>\n",
       "      <td>$118M</td>\n",
       "      <td>Paradigm, Andreessen Horowitz, Jump Capital</td>\n",
       "    </tr>\n",
       "    <tr>\n",
       "      <th>714</th>\n",
       "      <td>Yidian Zixun</td>\n",
       "      <td>$1B</td>\n",
       "      <td>10/17/17</td>\n",
       "      <td>Mobile &amp; telecommunications</td>\n",
       "      <td>Beijing</td>\n",
       "      <td>China</td>\n",
       "      <td>Asia</td>\n",
       "      <td>2021</td>\n",
       "      <td>$151M</td>\n",
       "      <td>Phoenix New Media, Tianjin Haihe Industry Fund</td>\n",
       "    </tr>\n",
       "    <tr>\n",
       "      <th>822</th>\n",
       "      <td>GlobalBees</td>\n",
       "      <td>$1B</td>\n",
       "      <td>12/28/21</td>\n",
       "      <td>E-commerce &amp; direct-to-consumer</td>\n",
       "      <td>New Delhi</td>\n",
       "      <td>India</td>\n",
       "      <td>Asia</td>\n",
       "      <td>2021</td>\n",
       "      <td>$185M</td>\n",
       "      <td>Chiratae Ventures, SoftBank Group, Trifecta Ca...</td>\n",
       "    </tr>\n",
       "    <tr>\n",
       "      <th>554</th>\n",
       "      <td>ClickHouse</td>\n",
       "      <td>$2B</td>\n",
       "      <td>10/28/21</td>\n",
       "      <td>Data management &amp; analytics</td>\n",
       "      <td>Portola Valley</td>\n",
       "      <td>United States</td>\n",
       "      <td>North America</td>\n",
       "      <td>2021</td>\n",
       "      <td>$300M</td>\n",
       "      <td>Lightspeed Venture Partners, Almaz Capital Par...</td>\n",
       "    </tr>\n",
       "    <tr>\n",
       "      <th>952</th>\n",
       "      <td>LayerZero Labs</td>\n",
       "      <td>$1B</td>\n",
       "      <td>3/30/22</td>\n",
       "      <td>Internet software &amp; services</td>\n",
       "      <td>New York</td>\n",
       "      <td>United States</td>\n",
       "      <td>North America</td>\n",
       "      <td>2021</td>\n",
       "      <td>$143M</td>\n",
       "      <td>Andreessen Horowitz, FTX Ventures, Tiger Globa...</td>\n",
       "    </tr>\n",
       "    <tr>\n",
       "      <th>314</th>\n",
       "      <td>Flink Food</td>\n",
       "      <td>$3B</td>\n",
       "      <td>12/1/21</td>\n",
       "      <td>E-commerce &amp; direct-to-consumer</td>\n",
       "      <td>Berlin</td>\n",
       "      <td>Germany</td>\n",
       "      <td>Europe</td>\n",
       "      <td>2021</td>\n",
       "      <td>$1B</td>\n",
       "      <td>Mubadala Capital, Bond, Prosus Ventures</td>\n",
       "    </tr>\n",
       "    <tr>\n",
       "      <th>864</th>\n",
       "      <td>Aptos</td>\n",
       "      <td>$1B</td>\n",
       "      <td>3/15/22</td>\n",
       "      <td>Internet software &amp; services</td>\n",
       "      <td>Palo Alto</td>\n",
       "      <td>United States</td>\n",
       "      <td>North America</td>\n",
       "      <td>2021</td>\n",
       "      <td>$200M</td>\n",
       "      <td>Andreessen Horowitz, Coinbase Ventures, Tiger ...</td>\n",
       "    </tr>\n",
       "    <tr>\n",
       "      <th>238</th>\n",
       "      <td>Yuga Labs</td>\n",
       "      <td>$4B</td>\n",
       "      <td>3/22/22</td>\n",
       "      <td>Fintech</td>\n",
       "      <td>Miami</td>\n",
       "      <td>United States</td>\n",
       "      <td>North America</td>\n",
       "      <td>2021</td>\n",
       "      <td>$450M</td>\n",
       "      <td>Andreessen Horowitz, Thrive Capital, Sound Ven...</td>\n",
       "    </tr>\n",
       "    <tr>\n",
       "      <th>775</th>\n",
       "      <td>Jokr</td>\n",
       "      <td>$1B</td>\n",
       "      <td>12/2/21</td>\n",
       "      <td>E-commerce &amp; direct-to-consumer</td>\n",
       "      <td>New York</td>\n",
       "      <td>United States</td>\n",
       "      <td>North America</td>\n",
       "      <td>2021</td>\n",
       "      <td>$430M</td>\n",
       "      <td>GGV Capital, Tiger Global Management, Greycroft</td>\n",
       "    </tr>\n",
       "    <tr>\n",
       "      <th>967</th>\n",
       "      <td>Mensa Brands</td>\n",
       "      <td>$1B</td>\n",
       "      <td>11/16/21</td>\n",
       "      <td>Other</td>\n",
       "      <td>Bengaluru</td>\n",
       "      <td>India</td>\n",
       "      <td>Asia</td>\n",
       "      <td>2021</td>\n",
       "      <td>$218M</td>\n",
       "      <td>Accel, Falcon Edge Capital, Norwest Venture Pa...</td>\n",
       "    </tr>\n",
       "  </tbody>\n",
       "</table>\n",
       "</div>"
      ],
      "text/plain": [
       "            Company Valuation Date Joined                         Industry  \\\n",
       "782         Phantom       $1B     1/31/22                          Fintech   \n",
       "714    Yidian Zixun       $1B    10/17/17      Mobile & telecommunications   \n",
       "822      GlobalBees       $1B    12/28/21  E-commerce & direct-to-consumer   \n",
       "554      ClickHouse       $2B    10/28/21      Data management & analytics   \n",
       "952  LayerZero Labs       $1B     3/30/22     Internet software & services   \n",
       "314      Flink Food       $3B     12/1/21  E-commerce & direct-to-consumer   \n",
       "864           Aptos       $1B     3/15/22     Internet software & services   \n",
       "238       Yuga Labs       $4B     3/22/22                          Fintech   \n",
       "775            Jokr       $1B     12/2/21  E-commerce & direct-to-consumer   \n",
       "967    Mensa Brands       $1B    11/16/21                            Other   \n",
       "\n",
       "               City Country/Region      Continent  Year Founded Funding  \\\n",
       "782   San Francisco  United States  North America          2021   $118M   \n",
       "714         Beijing          China           Asia          2021   $151M   \n",
       "822       New Delhi          India           Asia          2021   $185M   \n",
       "554  Portola Valley  United States  North America          2021   $300M   \n",
       "952        New York  United States  North America          2021   $143M   \n",
       "314          Berlin        Germany         Europe          2021     $1B   \n",
       "864       Palo Alto  United States  North America          2021   $200M   \n",
       "238           Miami  United States  North America          2021   $450M   \n",
       "775        New York  United States  North America          2021   $430M   \n",
       "967       Bengaluru          India           Asia          2021   $218M   \n",
       "\n",
       "                                      Select Investors  \n",
       "782        Paradigm, Andreessen Horowitz, Jump Capital  \n",
       "714     Phoenix New Media, Tianjin Haihe Industry Fund  \n",
       "822  Chiratae Ventures, SoftBank Group, Trifecta Ca...  \n",
       "554  Lightspeed Venture Partners, Almaz Capital Par...  \n",
       "952  Andreessen Horowitz, FTX Ventures, Tiger Globa...  \n",
       "314            Mubadala Capital, Bond, Prosus Ventures  \n",
       "864  Andreessen Horowitz, Coinbase Ventures, Tiger ...  \n",
       "238  Andreessen Horowitz, Thrive Capital, Sound Ven...  \n",
       "775    GGV Capital, Tiger Global Management, Greycroft  \n",
       "967  Accel, Falcon Edge Capital, Norwest Venture Pa...  "
      ]
     },
     "execution_count": 18,
     "metadata": {},
     "output_type": "execute_result"
    }
   ],
   "source": [
    "# Sort `companies` and display the first 10 rows of the resulting DataFrame.\n",
    "\n",
    "### YOUR CODE HERE ###\n",
    "\n",
    "companies.sort_values(by='Year Founded', ascending=False).head(10)"
   ]
  },
  {
   "cell_type": "markdown",
   "metadata": {
    "id": "quCKIWjC_PZr"
   },
   "source": [
    "**Question:** What do you observe from the sorting that you performed?\n",
    "\n",
    "- If you sorted by `Year Founded` in descending order and displayed the first 10 rows of the resulting DataFrame, you might observe the following:\n",
    "  - These 10 rows correspond to unicorn companies that were founded in 2021. \n",
    "  - These 10 companies were founded in different parts of the world and belong to different industries. \n",
    "  - Many of these 10 companies were founded in the United States and belong to \"Fintech,\" \"E-commerce & direct-to-consumer,\" and \"Internet software & services\" industries. "
   ]
  },
  {
   "cell_type": "markdown",
   "metadata": {
    "id": "k9_pE69KFqUR"
   },
   "source": [
    "**Question:** Which library would you use to get the count of each distinct value in the `Year Founded` column? \n",
    "\n",
    "- Use a function from the `pandas` library to get the count of each distinct value in the `Year Founded` column. Each count would indicate how many companies in the dataset were founded in the corresponding year."
   ]
  },
  {
   "cell_type": "markdown",
   "metadata": {
    "id": "95ICE9dXHWZY"
   },
   "source": [
    "### Determine the number of companies founded each year\n",
    "\n",
    "Find out how many companies in this dataset were founded each year. Make sure to display each unique `Year Founded` that occurs in the dataset, and for each year, a number that represents how many companies were founded then."
   ]
  },
  {
   "cell_type": "code",
   "execution_count": 19,
   "metadata": {
    "id": "_ZzafpsJ_VQ_"
   },
   "outputs": [
    {
     "data": {
      "text/plain": [
       "2015    155\n",
       "2016    110\n",
       "2014    109\n",
       "2012     95\n",
       "2013     87\n",
       "2011     82\n",
       "2017     74\n",
       "2018     61\n",
       "2019     45\n",
       "2010     40\n",
       "2009     34\n",
       "2008     27\n",
       "2020     25\n",
       "2007     24\n",
       "2006     15\n",
       "2005     14\n",
       "2000     11\n",
       "2021     11\n",
       "2001      9\n",
       "1999      8\n",
       "2004      8\n",
       "2003      8\n",
       "1998      5\n",
       "2002      4\n",
       "1994      2\n",
       "1995      2\n",
       "1992      1\n",
       "1993      1\n",
       "1990      1\n",
       "1984      1\n",
       "1996      1\n",
       "1979      1\n",
       "1991      1\n",
       "1919      1\n",
       "1997      1\n",
       "Name: Year Founded, dtype: int64"
      ]
     },
     "execution_count": 19,
     "metadata": {},
     "output_type": "execute_result"
    }
   ],
   "source": [
    "# Display each unique year that occurs in the dataset\n",
    "# along with the number of companies that were founded in each unique year.\n",
    "\n",
    "### YOUR CODE HERE ###\n",
    "companies['Year Founded'].value_counts().sort_values(ascending=False)"
   ]
  },
  {
   "cell_type": "markdown",
   "metadata": {
    "id": "rpMFZQqpJYW6"
   },
   "source": [
    "**Question:** What do you observe from the counts of the unique `Year Founded` values in the dataset?\n",
    "\n",
    "- `2015` has the highest count. This indicates that `2015` is the year when the largest number of companies in this dataset were founded."
   ]
  },
  {
   "cell_type": "markdown",
   "metadata": {},
   "source": [
    "**Question:** What kind of graph represents the counts of samples based on a particular feature?\n",
    "\n",
    "- A histogram is a graphical representation of a frequency distribution, which shows how frequently each value in a dataset or variable occurs."
   ]
  },
  {
   "cell_type": "markdown",
   "metadata": {},
   "source": [
    "Plot a histogram of the `Year Founded` feature."
   ]
  },
  {
   "cell_type": "code",
   "execution_count": 20,
   "metadata": {},
   "outputs": [
    {
     "data": {
      "text/plain": [
       "Text(0.5, 1.0, 'Year Founded Histogram')"
      ]
     },
     "execution_count": 20,
     "metadata": {},
     "output_type": "execute_result"
    },
    {
     "data": {
      "image/png": "[encoded data removed]",
      "text/plain": [
       "<Figure size 432x288 with 1 Axes>"
      ]
     },
     "metadata": {
      "needs_background": "light"
     },
     "output_type": "display_data"
    }
   ],
   "source": [
    "# Plot a histogram of the Year Founded feature.\n",
    "### YOUR CODE HERE ###\n",
    "sns.histplot(data = companies, x = companies['Year Founded'])\n",
    "plt.title('Year Founded Histogram')"
   ]
  },
  {
   "cell_type": "markdown",
   "metadata": {
    "id": "XzKBLKpOMerv"
   },
   "source": [
    "**Question:** If you want to compare when one company joined unicorn status to when another company joined, how would you transform the `Date Joined` column to gain that insight? To answer this question, notice the data types.\n",
    "\n",
    "- Given that the `Date Joined` columns currently has the data type `object`, if you wanted to compare when one company joined unicorn status to when another company joined, it would not be possible to achieve this meaningfully, as is. If this column were transformed so that it had a `datetime` data type instead, then it could be used to meaningfully compare `Date Joined` of one company to another. "
   ]
  },
  {
   "cell_type": "markdown",
   "metadata": {
    "id": "94b53c7f-54d8-4d1a-ae07-7c28c2ab8f5b",
    "tags": []
   },
   "source": [
    "### Convert the `Date Joined` column to datetime\n",
    "\n",
    "Convert the `Date Joined` column to datetime. This will split each value into year, month, and date components, allowing you to later gain insights about when a company gained unicorn status with respect to each component."
   ]
  },
  {
   "cell_type": "code",
   "execution_count": 21,
   "metadata": {
    "id": "afe607c8-9dd7-47c3-9fc8-88772f015e2b"
   },
   "outputs": [
    {
     "data": {
      "text/plain": [
       "Company                     object\n",
       "Valuation                   object\n",
       "Date Joined         datetime64[ns]\n",
       "Industry                    object\n",
       "City                        object\n",
       "Country/Region              object\n",
       "Continent                   object\n",
       "Year Founded                 int64\n",
       "Funding                     object\n",
       "Select Investors            object\n",
       "dtype: object"
      ]
     },
     "execution_count": 21,
     "metadata": {},
     "output_type": "execute_result"
    }
   ],
   "source": [
    "# Convert the `Date Joined` column to datetime.\n",
    "# Update the column with the converted values.\n",
    "\n",
    "### YOUR CODE HERE ###\n",
    "\n",
    "companies['Date Joined'] = pd.to_datetime(companies['Date Joined'])\n",
    "\n",
    "\n",
    "# Display the data types of the columns in `companies`\n",
    "# to confirm that the update actually took place.\n",
    "\n",
    "### YOUR CODE HERE ###\n",
    "\n",
    "companies.dtypes"
   ]
  },
  {
   "cell_type": "markdown",
   "metadata": {
    "id": "8Gl70TvPVDsO"
   },
   "source": [
    "**Question:** How would you obtain the names of the months when companies gained unicorn status?\n"
   ]
  },
  {
   "cell_type": "markdown",
   "metadata": {
    "id": "C3Dp7ePXz8Cz"
   },
   "source": [
    "[Write your response here. Double-click (or enter) to edit.]"
   ]
  },
  {
   "cell_type": "markdown",
   "metadata": {
    "id": "ae351a97-926e-40af-91e2-4bd12a5bf888",
    "tags": []
   },
   "source": [
    "### Create a `Month Joined` column\n",
    "\n",
    "Obtain the names of the months when companies gained unicorn status, and use the result to create a `Month Joined` column. "
   ]
  },
  {
   "cell_type": "code",
   "execution_count": 22,
   "metadata": {
    "id": "PFBo2wdQU6U1"
   },
   "outputs": [
    {
     "data": {
      "text/html": [
       "<div>\n",
       "<style scoped>\n",
       "    .dataframe tbody tr th:only-of-type {\n",
       "        vertical-align: middle;\n",
       "    }\n",
       "\n",
       "    .dataframe tbody tr th {\n",
       "        vertical-align: top;\n",
       "    }\n",
       "\n",
       "    .dataframe thead th {\n",
       "        text-align: right;\n",
       "    }\n",
       "</style>\n",
       "<table border=\"1\" class=\"dataframe\">\n",
       "  <thead>\n",
       "    <tr style=\"text-align: right;\">\n",
       "      <th></th>\n",
       "      <th>Company</th>\n",
       "      <th>Valuation</th>\n",
       "      <th>Date Joined</th>\n",
       "      <th>Industry</th>\n",
       "      <th>City</th>\n",
       "      <th>Country/Region</th>\n",
       "      <th>Continent</th>\n",
       "      <th>Year Founded</th>\n",
       "      <th>Funding</th>\n",
       "      <th>Select Investors</th>\n",
       "      <th>Month</th>\n",
       "    </tr>\n",
       "  </thead>\n",
       "  <tbody>\n",
       "    <tr>\n",
       "      <th>0</th>\n",
       "      <td>Bytedance</td>\n",
       "      <td>$180B</td>\n",
       "      <td>2017-04-07</td>\n",
       "      <td>Artificial intelligence</td>\n",
       "      <td>Beijing</td>\n",
       "      <td>China</td>\n",
       "      <td>Asia</td>\n",
       "      <td>2012</td>\n",
       "      <td>$8B</td>\n",
       "      <td>Sequoia Capital China, SIG Asia Investments, S...</td>\n",
       "      <td>April</td>\n",
       "    </tr>\n",
       "    <tr>\n",
       "      <th>1</th>\n",
       "      <td>SpaceX</td>\n",
       "      <td>$100B</td>\n",
       "      <td>2012-12-01</td>\n",
       "      <td>Other</td>\n",
       "      <td>Hawthorne</td>\n",
       "      <td>United States</td>\n",
       "      <td>North America</td>\n",
       "      <td>2002</td>\n",
       "      <td>$7B</td>\n",
       "      <td>Founders Fund, Draper Fisher Jurvetson, Rothen...</td>\n",
       "      <td>December</td>\n",
       "    </tr>\n",
       "    <tr>\n",
       "      <th>2</th>\n",
       "      <td>SHEIN</td>\n",
       "      <td>$100B</td>\n",
       "      <td>2018-07-03</td>\n",
       "      <td>E-commerce &amp; direct-to-consumer</td>\n",
       "      <td>Shenzhen</td>\n",
       "      <td>China</td>\n",
       "      <td>Asia</td>\n",
       "      <td>2008</td>\n",
       "      <td>$2B</td>\n",
       "      <td>Tiger Global Management, Sequoia Capital China...</td>\n",
       "      <td>July</td>\n",
       "    </tr>\n",
       "    <tr>\n",
       "      <th>3</th>\n",
       "      <td>Stripe</td>\n",
       "      <td>$95B</td>\n",
       "      <td>2014-01-23</td>\n",
       "      <td>Fintech</td>\n",
       "      <td>San Francisco</td>\n",
       "      <td>United States</td>\n",
       "      <td>North America</td>\n",
       "      <td>2010</td>\n",
       "      <td>$2B</td>\n",
       "      <td>Khosla Ventures, LowercaseCapital, capitalG</td>\n",
       "      <td>January</td>\n",
       "    </tr>\n",
       "    <tr>\n",
       "      <th>4</th>\n",
       "      <td>Klarna</td>\n",
       "      <td>$46B</td>\n",
       "      <td>2011-12-12</td>\n",
       "      <td>Fintech</td>\n",
       "      <td>Stockholm</td>\n",
       "      <td>Sweden</td>\n",
       "      <td>Europe</td>\n",
       "      <td>2005</td>\n",
       "      <td>$4B</td>\n",
       "      <td>Institutional Venture Partners, Sequoia Capita...</td>\n",
       "      <td>December</td>\n",
       "    </tr>\n",
       "  </tbody>\n",
       "</table>\n",
       "</div>"
      ],
      "text/plain": [
       "     Company Valuation Date Joined                         Industry  \\\n",
       "0  Bytedance     $180B  2017-04-07          Artificial intelligence   \n",
       "1     SpaceX     $100B  2012-12-01                            Other   \n",
       "2      SHEIN     $100B  2018-07-03  E-commerce & direct-to-consumer   \n",
       "3     Stripe      $95B  2014-01-23                          Fintech   \n",
       "4     Klarna      $46B  2011-12-12                          Fintech   \n",
       "\n",
       "            City Country/Region      Continent  Year Founded Funding  \\\n",
       "0        Beijing          China           Asia          2012     $8B   \n",
       "1      Hawthorne  United States  North America          2002     $7B   \n",
       "2       Shenzhen          China           Asia          2008     $2B   \n",
       "3  San Francisco  United States  North America          2010     $2B   \n",
       "4      Stockholm         Sweden         Europe          2005     $4B   \n",
       "\n",
       "                                    Select Investors     Month  \n",
       "0  Sequoia Capital China, SIG Asia Investments, S...     April  \n",
       "1  Founders Fund, Draper Fisher Jurvetson, Rothen...  December  \n",
       "2  Tiger Global Management, Sequoia Capital China...      July  \n",
       "3        Khosla Ventures, LowercaseCapital, capitalG   January  \n",
       "4  Institutional Venture Partners, Sequoia Capita...  December  "
      ]
     },
     "execution_count": 22,
     "metadata": {},
     "output_type": "execute_result"
    }
   ],
   "source": [
    "# Obtain the names of the months when companies gained unicorn status.\n",
    "# Use the result to create a `Month Joined` column.\n",
    "\n",
    "### YOUR CODE HERE ###\n",
    "\n",
    "companies['Month'] = companies['Date Joined'].dt.month_name()\n",
    "\n",
    "\n",
    "# Display the first few rows of `companies`\n",
    "# to confirm that the new column did get added.\n",
    "\n",
    "### YOUR CODE HERE ###\n",
    "\n",
    "companies.head()"
   ]
  },
  {
   "cell_type": "markdown",
   "metadata": {
    "id": "W81zWrCE8_Ye"
   },
   "source": [
    "**Question:** Using the 'Date Joined' column, how would you determine how many years it took for companies to reach unicorn status?\n",
    "\n",
    "- Given that the `Date Joined` column is in datetime format, extract the year component from `Date Joined` and subtract the `Year Founded` column from it. This difference in years represents how many it years it took for companies to reach unicorn status."
   ]
  },
  {
   "cell_type": "markdown",
   "metadata": {
    "id": "6xTyzHiM8_Yf",
    "tags": []
   },
   "source": [
    "### Create a `Years To Join` column\n",
    "\n",
    "Determine how many years it took for companies to reach unicorn status, and use the result to create a `Years To Join` column. Adding this to the dataset can help you answer questions you may have about this aspect of the companies."
   ]
  },
  {
   "cell_type": "code",
   "execution_count": 23,
   "metadata": {
    "id": "9zK8Q7-v-Bx1"
   },
   "outputs": [
    {
     "data": {
      "text/html": [
       "<div>\n",
       "<style scoped>\n",
       "    .dataframe tbody tr th:only-of-type {\n",
       "        vertical-align: middle;\n",
       "    }\n",
       "\n",
       "    .dataframe tbody tr th {\n",
       "        vertical-align: top;\n",
       "    }\n",
       "\n",
       "    .dataframe thead th {\n",
       "        text-align: right;\n",
       "    }\n",
       "</style>\n",
       "<table border=\"1\" class=\"dataframe\">\n",
       "  <thead>\n",
       "    <tr style=\"text-align: right;\">\n",
       "      <th></th>\n",
       "      <th>Company</th>\n",
       "      <th>Valuation</th>\n",
       "      <th>Date Joined</th>\n",
       "      <th>Industry</th>\n",
       "      <th>City</th>\n",
       "      <th>Country/Region</th>\n",
       "      <th>Continent</th>\n",
       "      <th>Year Founded</th>\n",
       "      <th>Funding</th>\n",
       "      <th>Select Investors</th>\n",
       "      <th>Month</th>\n",
       "      <th>Years To Join</th>\n",
       "    </tr>\n",
       "  </thead>\n",
       "  <tbody>\n",
       "    <tr>\n",
       "      <th>0</th>\n",
       "      <td>Bytedance</td>\n",
       "      <td>$180B</td>\n",
       "      <td>2017-04-07</td>\n",
       "      <td>Artificial intelligence</td>\n",
       "      <td>Beijing</td>\n",
       "      <td>China</td>\n",
       "      <td>Asia</td>\n",
       "      <td>2012</td>\n",
       "      <td>$8B</td>\n",
       "      <td>Sequoia Capital China, SIG Asia Investments, S...</td>\n",
       "      <td>April</td>\n",
       "      <td>5</td>\n",
       "    </tr>\n",
       "    <tr>\n",
       "      <th>1</th>\n",
       "      <td>SpaceX</td>\n",
       "      <td>$100B</td>\n",
       "      <td>2012-12-01</td>\n",
       "      <td>Other</td>\n",
       "      <td>Hawthorne</td>\n",
       "      <td>United States</td>\n",
       "      <td>North America</td>\n",
       "      <td>2002</td>\n",
       "      <td>$7B</td>\n",
       "      <td>Founders Fund, Draper Fisher Jurvetson, Rothen...</td>\n",
       "      <td>December</td>\n",
       "      <td>10</td>\n",
       "    </tr>\n",
       "    <tr>\n",
       "      <th>2</th>\n",
       "      <td>SHEIN</td>\n",
       "      <td>$100B</td>\n",
       "      <td>2018-07-03</td>\n",
       "      <td>E-commerce &amp; direct-to-consumer</td>\n",
       "      <td>Shenzhen</td>\n",
       "      <td>China</td>\n",
       "      <td>Asia</td>\n",
       "      <td>2008</td>\n",
       "      <td>$2B</td>\n",
       "      <td>Tiger Global Management, Sequoia Capital China...</td>\n",
       "      <td>July</td>\n",
       "      <td>10</td>\n",
       "    </tr>\n",
       "    <tr>\n",
       "      <th>3</th>\n",
       "      <td>Stripe</td>\n",
       "      <td>$95B</td>\n",
       "      <td>2014-01-23</td>\n",
       "      <td>Fintech</td>\n",
       "      <td>San Francisco</td>\n",
       "      <td>United States</td>\n",
       "      <td>North America</td>\n",
       "      <td>2010</td>\n",
       "      <td>$2B</td>\n",
       "      <td>Khosla Ventures, LowercaseCapital, capitalG</td>\n",
       "      <td>January</td>\n",
       "      <td>4</td>\n",
       "    </tr>\n",
       "    <tr>\n",
       "      <th>4</th>\n",
       "      <td>Klarna</td>\n",
       "      <td>$46B</td>\n",
       "      <td>2011-12-12</td>\n",
       "      <td>Fintech</td>\n",
       "      <td>Stockholm</td>\n",
       "      <td>Sweden</td>\n",
       "      <td>Europe</td>\n",
       "      <td>2005</td>\n",
       "      <td>$4B</td>\n",
       "      <td>Institutional Venture Partners, Sequoia Capita...</td>\n",
       "      <td>December</td>\n",
       "      <td>6</td>\n",
       "    </tr>\n",
       "  </tbody>\n",
       "</table>\n",
       "</div>"
      ],
      "text/plain": [
       "     Company Valuation Date Joined                         Industry  \\\n",
       "0  Bytedance     $180B  2017-04-07          Artificial intelligence   \n",
       "1     SpaceX     $100B  2012-12-01                            Other   \n",
       "2      SHEIN     $100B  2018-07-03  E-commerce & direct-to-consumer   \n",
       "3     Stripe      $95B  2014-01-23                          Fintech   \n",
       "4     Klarna      $46B  2011-12-12                          Fintech   \n",
       "\n",
       "            City Country/Region      Continent  Year Founded Funding  \\\n",
       "0        Beijing          China           Asia          2012     $8B   \n",
       "1      Hawthorne  United States  North America          2002     $7B   \n",
       "2       Shenzhen          China           Asia          2008     $2B   \n",
       "3  San Francisco  United States  North America          2010     $2B   \n",
       "4      Stockholm         Sweden         Europe          2005     $4B   \n",
       "\n",
       "                                    Select Investors     Month  Years To Join  \n",
       "0  Sequoia Capital China, SIG Asia Investments, S...     April              5  \n",
       "1  Founders Fund, Draper Fisher Jurvetson, Rothen...  December             10  \n",
       "2  Tiger Global Management, Sequoia Capital China...      July             10  \n",
       "3        Khosla Ventures, LowercaseCapital, capitalG   January              4  \n",
       "4  Institutional Venture Partners, Sequoia Capita...  December              6  "
      ]
     },
     "execution_count": 23,
     "metadata": {},
     "output_type": "execute_result"
    }
   ],
   "source": [
    "# Determine how many years it took for companies to reach unicorn status.\n",
    "# Use the result to create a `Years To Join` column.\n",
    "\n",
    "### YOUR CODE HERE ###\n",
    "\n",
    "companies['Years To Join'] = companies['Date Joined'].dt.year - companies['Year Founded']\n",
    "\n",
    "\n",
    "# Display the first few rows of `companies`\n",
    "# to confirm that the new column did get added.\n",
    "\n",
    "### YOUR CODE HERE ###\n",
    "\n",
    "companies.head()"
   ]
  },
  {
   "cell_type": "markdown",
   "metadata": {
    "id": "98YFM1o4-VQ_"
   },
   "source": [
    "**Question:** Which year would you like to gain more insight on with respect when companies attained unicorn status, and why?\n",
    "\n",
    "- Get more insight on the year 2021, as that is the most recent year for which there is data available. Trends that took place in 2021 might be similar to trends that will take place in 2022. "
   ]
  },
  {
   "cell_type": "markdown",
   "metadata": {
    "id": "nx-WbHfLCdTd"
   },
   "source": [
    "### Gain more insight on a specific year\n",
    "\n",
    "To gain more insight on the year of that interests you, filter the dataset by that year and save the resulting subset into a new variable. "
   ]
  },
  {
   "cell_type": "code",
   "execution_count": 106,
   "metadata": {
    "id": "5FnSS5fBEUY-"
   },
   "outputs": [
    {
     "data": {
      "text/html": [
       "<div>\n",
       "<style scoped>\n",
       "    .dataframe tbody tr th:only-of-type {\n",
       "        vertical-align: middle;\n",
       "    }\n",
       "\n",
       "    .dataframe tbody tr th {\n",
       "        vertical-align: top;\n",
       "    }\n",
       "\n",
       "    .dataframe thead th {\n",
       "        text-align: right;\n",
       "    }\n",
       "</style>\n",
       "<table border=\"1\" class=\"dataframe\">\n",
       "  <thead>\n",
       "    <tr style=\"text-align: right;\">\n",
       "      <th></th>\n",
       "      <th>Company</th>\n",
       "      <th>Valuation</th>\n",
       "      <th>Date Joined</th>\n",
       "      <th>Industry</th>\n",
       "      <th>City</th>\n",
       "      <th>Country/Region</th>\n",
       "      <th>Continent</th>\n",
       "      <th>Year Founded</th>\n",
       "      <th>Funding</th>\n",
       "      <th>Select Investors</th>\n",
       "      <th>Month</th>\n",
       "      <th>Years To Join</th>\n",
       "    </tr>\n",
       "  </thead>\n",
       "  <tbody>\n",
       "    <tr>\n",
       "      <th>12</th>\n",
       "      <td>FTX</td>\n",
       "      <td>$32B</td>\n",
       "      <td>2021-07-20</td>\n",
       "      <td>Fintech</td>\n",
       "      <td>NaN</td>\n",
       "      <td>Bahamas</td>\n",
       "      <td>North America</td>\n",
       "      <td>2018</td>\n",
       "      <td>$2B</td>\n",
       "      <td>Sequoia Capital, Thoma Bravo, Softbank</td>\n",
       "      <td>July</td>\n",
       "      <td>3</td>\n",
       "    </tr>\n",
       "    <tr>\n",
       "      <th>16</th>\n",
       "      <td>J&amp;T Express</td>\n",
       "      <td>$20B</td>\n",
       "      <td>2021-04-07</td>\n",
       "      <td>Supply chain, logistics, &amp; delivery</td>\n",
       "      <td>Jakarta</td>\n",
       "      <td>Indonesia</td>\n",
       "      <td>Asia</td>\n",
       "      <td>2015</td>\n",
       "      <td>$5B</td>\n",
       "      <td>Hillhouse Capital Management, Boyu Capital, Se...</td>\n",
       "      <td>April</td>\n",
       "      <td>6</td>\n",
       "    </tr>\n",
       "    <tr>\n",
       "      <th>24</th>\n",
       "      <td>Blockchain.com</td>\n",
       "      <td>$14B</td>\n",
       "      <td>2021-02-17</td>\n",
       "      <td>Fintech</td>\n",
       "      <td>London</td>\n",
       "      <td>United Kingdom</td>\n",
       "      <td>Europe</td>\n",
       "      <td>2011</td>\n",
       "      <td>$490M</td>\n",
       "      <td>Lightspeed Venture Partners, Google Ventures, ...</td>\n",
       "      <td>February</td>\n",
       "      <td>10</td>\n",
       "    </tr>\n",
       "    <tr>\n",
       "      <th>27</th>\n",
       "      <td>OpenSea</td>\n",
       "      <td>$13B</td>\n",
       "      <td>2021-07-20</td>\n",
       "      <td>E-commerce &amp; direct-to-consumer</td>\n",
       "      <td>New York</td>\n",
       "      <td>United States</td>\n",
       "      <td>North America</td>\n",
       "      <td>2017</td>\n",
       "      <td>$427M</td>\n",
       "      <td>Andreessen Horowitz, Thirty Five Ventures, Sou...</td>\n",
       "      <td>July</td>\n",
       "      <td>4</td>\n",
       "    </tr>\n",
       "    <tr>\n",
       "      <th>34</th>\n",
       "      <td>Getir</td>\n",
       "      <td>$12B</td>\n",
       "      <td>2021-03-26</td>\n",
       "      <td>E-commerce &amp; direct-to-consumer</td>\n",
       "      <td>Istanbul</td>\n",
       "      <td>Turkey</td>\n",
       "      <td>Europe</td>\n",
       "      <td>2015</td>\n",
       "      <td>$2B</td>\n",
       "      <td>Tiger Global Management, Sequoia Capital, Revo...</td>\n",
       "      <td>March</td>\n",
       "      <td>6</td>\n",
       "    </tr>\n",
       "  </tbody>\n",
       "</table>\n",
       "</div>"
      ],
      "text/plain": [
       "           Company Valuation Date Joined                             Industry  \\\n",
       "12             FTX      $32B  2021-07-20                              Fintech   \n",
       "16     J&T Express      $20B  2021-04-07  Supply chain, logistics, & delivery   \n",
       "24  Blockchain.com      $14B  2021-02-17                              Fintech   \n",
       "27         OpenSea      $13B  2021-07-20      E-commerce & direct-to-consumer   \n",
       "34           Getir      $12B  2021-03-26      E-commerce & direct-to-consumer   \n",
       "\n",
       "        City  Country/Region      Continent  Year Founded Funding  \\\n",
       "12       NaN         Bahamas  North America          2018     $2B   \n",
       "16   Jakarta       Indonesia           Asia          2015     $5B   \n",
       "24    London  United Kingdom         Europe          2011   $490M   \n",
       "27  New York   United States  North America          2017   $427M   \n",
       "34  Istanbul          Turkey         Europe          2015     $2B   \n",
       "\n",
       "                                     Select Investors     Month  Years To Join  \n",
       "12             Sequoia Capital, Thoma Bravo, Softbank      July              3  \n",
       "16  Hillhouse Capital Management, Boyu Capital, Se...     April              6  \n",
       "24  Lightspeed Venture Partners, Google Ventures, ...  February             10  \n",
       "27  Andreessen Horowitz, Thirty Five Ventures, Sou...      July              4  \n",
       "34  Tiger Global Management, Sequoia Capital, Revo...     March              6  "
      ]
     },
     "execution_count": 106,
     "metadata": {},
     "output_type": "execute_result"
    }
   ],
   "source": [
    "# Filter dataset by a year of your interest (in terms of when companies reached unicorn status).\n",
    "# Save the resulting subset in a new variable. \n",
    "\n",
    "### YOUR CODE HERE ###\n",
    "\n",
    "companies_2021 = companies[companies['Date Joined'].dt.year == 2021]\n",
    "\n",
    "\n",
    "# Display the first few rows of the subset to confirm that it was created.\n",
    "\n",
    "### YOUR CODE HERE ###\n",
    "\n",
    "companies_2021.head()"
   ]
  },
  {
   "cell_type": "markdown",
   "metadata": {
    "id": "xP7aPBulLnRA"
   },
   "source": [
    "**Question:** Using a time interval, how could you observe trends in the companies that became unicorns in one year?\n",
    "\n",
    "- First, identify a time interval of your choice. Then, take the subset that consists of the data for the year of interest, create a column that contains the time interval that each data point belongs to (as needed), group by that column, and count the number of companies that joined per interval. \n",
    "  - For example, if a subset consisted of companies that joined in 2021, create a column that corresponds to week joined, group by week, and count the number of companies that joined per week. This allows the observation of trends over the weeks of 2021. "
   ]
  },
  {
   "cell_type": "markdown",
   "metadata": {
    "id": "xMeC4PjILkAP"
   },
   "source": [
    "### Observe trends over time\n",
    "\n",
    "Implement the structuring approach that you have identified to observe trends over time in the companies that became unicorns for the year that interests you."
   ]
  },
  {
   "cell_type": "code",
   "execution_count": 107,
   "metadata": {
    "id": "RTPw3cRqPUI3"
   },
   "outputs": [
    {
     "data": {
      "text/html": [
       "<div>\n",
       "<style scoped>\n",
       "    .dataframe tbody tr th:only-of-type {\n",
       "        vertical-align: middle;\n",
       "    }\n",
       "\n",
       "    .dataframe tbody tr th {\n",
       "        vertical-align: top;\n",
       "    }\n",
       "\n",
       "    .dataframe thead th {\n",
       "        text-align: right;\n",
       "    }\n",
       "</style>\n",
       "<table border=\"1\" class=\"dataframe\">\n",
       "  <thead>\n",
       "    <tr style=\"text-align: right;\">\n",
       "      <th></th>\n",
       "      <th>Week Joined</th>\n",
       "      <th>Company Count</th>\n",
       "    </tr>\n",
       "  </thead>\n",
       "  <tbody>\n",
       "    <tr>\n",
       "      <th>0</th>\n",
       "      <td>2021-W01</td>\n",
       "      <td>12</td>\n",
       "    </tr>\n",
       "    <tr>\n",
       "      <th>1</th>\n",
       "      <td>2021-W02</td>\n",
       "      <td>9</td>\n",
       "    </tr>\n",
       "    <tr>\n",
       "      <th>2</th>\n",
       "      <td>2021-W03</td>\n",
       "      <td>5</td>\n",
       "    </tr>\n",
       "    <tr>\n",
       "      <th>3</th>\n",
       "      <td>2021-W04</td>\n",
       "      <td>8</td>\n",
       "    </tr>\n",
       "    <tr>\n",
       "      <th>4</th>\n",
       "      <td>2021-W05</td>\n",
       "      <td>4</td>\n",
       "    </tr>\n",
       "  </tbody>\n",
       "</table>\n",
       "</div>"
      ],
      "text/plain": [
       "  Week Joined  Company Count\n",
       "0    2021-W01             12\n",
       "1    2021-W02              9\n",
       "2    2021-W03              5\n",
       "3    2021-W04              8\n",
       "4    2021-W05              4"
      ]
     },
     "execution_count": 107,
     "metadata": {},
     "output_type": "execute_result"
    }
   ],
   "source": [
    "# After identifying the time interval that interests you, proceed with the following:\n",
    "# Step 1. Take the subset that you defined for the year of interest. \n",
    "#         Insert a column that contains the time interval that each data point belongs to, as needed.\n",
    "# Step 2. Group by the time interval.\n",
    "#         Aggregate by counting companies that joined per interval of that year.\n",
    "#         Save the resulting DataFrame in a new variable.\n",
    "\n",
    "### YOUR CODE HERE ###\n",
    "\n",
    "# Inserting a 'Week Joined' column into 'companies_2021' dataset.\n",
    "\n",
    "companies_2021.insert(3, 'Week Joined', companies['Date Joined'].dt.strftime('%Y-W%V'))\n",
    "\n",
    "companies_by_week_2021 = companies_2021.groupby(by='Week Joined')['Company'].count().reset_index().rename(columns={'Company':'Company Count'})\n",
    "# Display the first few rows of the new DataFrame to confirm that it was created\n",
    "\n",
    "### YOUR CODE HERE ###\n",
    "\n",
    "companies_by_week_2021.head()\n"
   ]
  },
  {
   "cell_type": "markdown",
   "metadata": {
    "id": "vAPjV24TA7lA"
   },
   "source": [
    "**Question:** How would you structure the data to observe trends in the average valuation of companies from 2020 to 2021?  \n",
    "\n",
    "- One approach consists of the following:\n",
    "  - Choose a time interval over which you want to observe average valuation.\n",
    "  - Create a subset of data that corresponds to the additional year. Concatenate that subset with the previous subset you created, in order to get the data for both years in one DataFrame. \n",
    "  - Create a column that contains the time interval that each data point belongs to (as needed), group by that column, and compute the average funding of companies that joined per interval. \n",
    "- To compare trends in average valuation of companies quarterly between 2021 and 2020, if you already had a subset for 2021, you could do the following: \n",
    "- Create a subset for 2020.\n",
    "- Concatenate that with the subset for 2020.\n",
    "- Create a column that corresponds to quarter joined.\n",
    "- Group by quarter.\n",
    "- Compute the average valuation of companies that joined per quarter. \n",
    "\n",
    "This allows the observation of trends over the quarters of 2020 compared to 2021. "
   ]
  },
  {
   "cell_type": "markdown",
   "metadata": {
    "id": "5vGITCLaA7lC"
   },
   "source": [
    "### Compare trends over time\n",
    "\n",
    "Implement the structuring approach that you have identified in order to compare trends over time in the average valuation of companies that became unicorns in the year you selected above and in another year of your choice. Keep in mind the data type of the `Valuation` column and what the values in that column contain currently."
   ]
  },
  {
   "cell_type": "code",
   "execution_count": 108,
   "metadata": {},
   "outputs": [],
   "source": [
    "import re"
   ]
  },
  {
   "cell_type": "code",
   "execution_count": 117,
   "metadata": {
    "id": "pQ3sXSbaA7lD"
   },
   "outputs": [
    {
     "data": {
      "text/html": [
       "<div>\n",
       "<style scoped>\n",
       "    .dataframe tbody tr th:only-of-type {\n",
       "        vertical-align: middle;\n",
       "    }\n",
       "\n",
       "    .dataframe tbody tr th {\n",
       "        vertical-align: top;\n",
       "    }\n",
       "\n",
       "    .dataframe thead th {\n",
       "        text-align: right;\n",
       "    }\n",
       "</style>\n",
       "<table border=\"1\" class=\"dataframe\">\n",
       "  <thead>\n",
       "    <tr style=\"text-align: right;\">\n",
       "      <th></th>\n",
       "      <th>Quarter Joined</th>\n",
       "      <th>Average Valuation</th>\n",
       "    </tr>\n",
       "  </thead>\n",
       "  <tbody>\n",
       "    <tr>\n",
       "      <th>0</th>\n",
       "      <td>2020-Q1</td>\n",
       "      <td>3.444444</td>\n",
       "    </tr>\n",
       "    <tr>\n",
       "      <th>1</th>\n",
       "      <td>2020-Q2</td>\n",
       "      <td>3.777778</td>\n",
       "    </tr>\n",
       "    <tr>\n",
       "      <th>2</th>\n",
       "      <td>2020-Q3</td>\n",
       "      <td>3.896552</td>\n",
       "    </tr>\n",
       "    <tr>\n",
       "      <th>3</th>\n",
       "      <td>2020-Q4</td>\n",
       "      <td>3.738095</td>\n",
       "    </tr>\n",
       "    <tr>\n",
       "      <th>4</th>\n",
       "      <td>2021-Q1</td>\n",
       "      <td>2.757009</td>\n",
       "    </tr>\n",
       "    <tr>\n",
       "      <th>5</th>\n",
       "      <td>2021-Q2</td>\n",
       "      <td>2.328671</td>\n",
       "    </tr>\n",
       "    <tr>\n",
       "      <th>6</th>\n",
       "      <td>2021-Q3</td>\n",
       "      <td>2.330769</td>\n",
       "    </tr>\n",
       "    <tr>\n",
       "      <th>7</th>\n",
       "      <td>2021-Q4</td>\n",
       "      <td>1.857143</td>\n",
       "    </tr>\n",
       "  </tbody>\n",
       "</table>\n",
       "</div>"
      ],
      "text/plain": [
       "  Quarter Joined  Average Valuation\n",
       "0        2020-Q1           3.444444\n",
       "1        2020-Q2           3.777778\n",
       "2        2020-Q3           3.896552\n",
       "3        2020-Q4           3.738095\n",
       "4        2021-Q1           2.757009\n",
       "5        2021-Q2           2.328671\n",
       "6        2021-Q3           2.330769\n",
       "7        2021-Q4           1.857143"
      ]
     },
     "execution_count": 117,
     "metadata": {},
     "output_type": "execute_result"
    }
   ],
   "source": [
    "# After identifying the additional year and time interval of interest, proceed with the following:\n",
    "# Step 1. Filter by the additional year to create a subset that consists of companies that joined in that year.\n",
    "# Step 2. Concatenate that new subset with the subset that you defined previously.\n",
    "# Step 3. As needed, add a column that contains the time interval that each data point belongs to, \n",
    "#         in the concatenated DataFrame.\n",
    "# Step 4. Transform the `Valuation` column as needed.\n",
    "# Step 5. Group by the time interval.\n",
    "#         Aggregate by computing average valuation of companies that joined per interval of the corresponding year.\n",
    "#         Save the resulting DataFrame in a new variable.\n",
    "\n",
    "### YOUR CODE HERE ###\n",
    "\n",
    "# Filter by the additional year to create a subset that consists of companies that joined in that year.\n",
    "companies_2020 = companies[companies[\"Date Joined\"].dt.year == 2020]\n",
    "\n",
    "# Concatenate the new subset with the subset that you defined previously.\n",
    "companies_2020_2021 = pd.concat([companies_2020, companies_2021.drop(columns=\"Week Joined\")])\n",
    "\n",
    "# Add `Quarter Joined` column to `companies_2021`.\n",
    "companies_2020_2021[\"Quarter Joined\"] = companies_2020_2021[\"Date Joined\"].dt.to_period('Q').dt.strftime('%Y-Q%q')\n",
    "\n",
    "# Convert the `Valuation` column to numeric by removing `$` and `B` and casting each value to data type `float`.\n",
    "\n",
    "def convert_to_billions(value):\n",
    "    try:\n",
    "        # Remove '$' and extract numeric and unit parts\n",
    "        match = re.match(r\"^\\$?([\\d\\.]+)([BM]?)$\", value)\n",
    "        if match:\n",
    "            num = float(match.group(1))  # Numeric part\n",
    "            unit = match.group(2)       # Unit part\n",
    "            # Convert to billions\n",
    "            if unit == \"B\":\n",
    "                return num  # Already in billions\n",
    "            elif unit == \"M\":\n",
    "                return num / 1000  # Convert millions to billions\n",
    "            else:\n",
    "                return np.nan  # Handle unexpected formats\n",
    "        return np.nan  # For non-matching values\n",
    "    except:\n",
    "        return np.nan\n",
    "\n",
    "# Removing rows with 'Unknown'\n",
    "\n",
    "companies_2020_2021 = companies_2020_2021[companies_2020_2021['Funding'] != 'Unknown']\n",
    "\n",
    "# Applying the convertion function to the Funding Column\n",
    "\n",
    "companies_2020_2021['Funding']  = companies_2020_2021['Funding'].apply(convert_to_billions)\n",
    "\n",
    "# Applying the convertion function to the 'Valution' column\n",
    "\n",
    "companies_2020_2021['Valuation'] = companies_2020_2021['Valuation'].apply(convert_to_billions)\n",
    "\n",
    "# Aggregate by computing average `Funding` of companies that joined per quarter of each year.\n",
    "# Save the resulting DataFrame in a new variable.\n",
    "\n",
    "\n",
    "companies_by_quarter_valuation_2020_2021 = companies_2020_2021.groupby(by='Quarter Joined')['Valuation'].mean().reset_index().rename(columns={'Valuation':'Average Valuation'})\n",
    "companies_by_quarter_funding_2020_2021 = companies_2020_2021.groupby(by='Quarter Joined')['Funding'].mean().reset_index().rename(columns={'Funding':'Average_funding'})\n",
    "# Display the first few rows of the new DataFrame to confirm that it was created.\n",
    "\n",
    "### YOUR CODE HERE ###\n",
    "\n",
    "companies_by_quarter_valuation_2020_2021.head(8)\n",
    "#companies_by_quarter_funding_2020_2021.head()\n"
   ]
  },
  {
   "cell_type": "markdown",
   "metadata": {
    "id": "w_HtFyHrXVAc"
   },
   "source": [
    "## Step 3: Time-to-unicorn visualization\n",
    "\n",
    "### Visualize the time it took companies to become unicorns\n",
    "\n",
    "Using the `companies` dataset, create a box plot to visualize the distribution of how long it took companies to become unicorns, with respect to the month they joined. "
   ]
  },
  {
   "cell_type": "code",
   "execution_count": 118,
   "metadata": {
    "id": "4GT0qtPUIlzD"
   },
   "outputs": [
    {
     "name": "stdout",
     "output_type": "stream",
     "text": [
      "['January', 'February', 'March', 'April', 'May', 'June', 'July', 'August', 'September', 'October', 'November', 'December']\n"
     ]
    }
   ],
   "source": [
    "# Define a list that contains months in chronological order.\n",
    "\n",
    "### YOUR CODE HERE ###\n",
    "month_order = [\"January\", \"February\", \"March\", \"April\", \"May\", \"June\",\n",
    "               \"July\", \"August\", \"September\", \"October\", \"November\", \n",
    "               \"December\"]\n",
    "\n",
    "# Print out the list to confirm it is correct.\n",
    "\n",
    "### YOUR CODE HERE ###\n",
    "print(month_order)\n",
    "\n",
    "            "
   ]
  },
  {
   "cell_type": "code",
   "execution_count": 119,
   "metadata": {
    "id": "7V-NPXUCIhCT"
   },
   "outputs": [
    {
     "data": {
      "image/png": "[encoded data removed]",
      "text/plain": [
       "<Figure size 432x288 with 1 Axes>"
      ]
     },
     "metadata": {
      "needs_background": "light"
     },
     "output_type": "display_data"
    }
   ],
   "source": [
    "# Create the box plot to visualize the distribution of how long it took companies to become unicorns, with respect to the month they joined.\n",
    "# Make sure the x-axis goes in chronological order by month, using the list you defined previously.\n",
    "# Plot the data from the `companies` DataFrame.\n",
    "\n",
    "### YOUR CODE HERE ###\n",
    "\n",
    "sns.boxplot(x=companies['Month'], \n",
    "            y=companies['Years To Join'], \n",
    "            order=month_order, \n",
    "            showfliers=False)\n",
    "\n",
    "# Set the title of the plot.\n",
    "\n",
    "### YOUR CODE HERE ###\n",
    "\n",
    "plt.title('Distribution of years to become unicorn with respect to month joined')\n",
    "\n",
    "# Rotate labels on the x-axis as a way to avoid overlap in the positions of the text.  \n",
    "\n",
    "### YOUR CODE HERE ###\n",
    "\n",
    "plt.xticks(rotation=45, horizontalalignment='right')\n",
    "\n",
    "# Display the plot.\n",
    "\n",
    "### YOUR CODE HERE ###\n",
    "\n",
    "plt.show()\n"
   ]
  },
  {
   "cell_type": "markdown",
   "metadata": {
    "id": "rLUHSsZl0Cmt"
   },
   "source": [
    "**Question:** In the preceding box plot, what do you observe about the median value for `Years To Join` for each month?\n",
    " \n",
    "- In the preceding box plot, the median value for `Years To Join` is different for each month. Also, the median `Years To Join` is lower for the months of September and October. This could indicate that companies that reached unicorn status in early fall took less time to reach $1 billion valuation. This is because the number of companies is relatively close/consistent for each month. If that were not the case, it would be misleading to compare the median values from the box plots between months."
   ]
  },
  {
   "cell_type": "markdown",
   "metadata": {
    "id": "gq9Syq-Cq1zb"
   },
   "source": [
    "## Step 4: Results and evaluation\n"
   ]
  },
  {
   "cell_type": "markdown",
   "metadata": {
    "id": "10beff64-16e0-464d-93f0-03ab61f7069b",
    "tags": []
   },
   "source": [
    "### Visualize the time it took companies to reach unicorn status\n",
    "\n",
    "In this section, you will evaluate the result of structuring the data, making observations, and gaining further insights about the data. \n",
    "\n",
    "Using the `companies` dataset, create a bar plot to visualize the average number of years it took companies to reach unicorn status with respect to when they were founded. "
   ]
  },
  {
   "cell_type": "code",
   "execution_count": 120,
   "metadata": {
    "id": "1153ca76-f1e3-4fea-a2db-a5de23614abd",
    "scrolled": true
   },
   "outputs": [
    {
     "data": {
      "image/png": "[encoded data removed]",
      "text/plain": [
       "<Figure size 720x432 with 1 Axes>"
      ]
     },
     "metadata": {
      "needs_background": "light"
     },
     "output_type": "display_data"
    }
   ],
   "source": [
    "# Set the size of the plot.\n",
    "\n",
    "### YOUR CODE HERE ###\n",
    "\n",
    "plt.figure(figsize=(10,6))\n",
    "\n",
    "\n",
    "# Create bar plot to visualize the average number of years it took companies to reach unicorn status \n",
    "# with respect to when they were founded.\n",
    "# Plot data from the `companies` DataFrame.\n",
    "\n",
    "### YOUR CODE HERE ###\n",
    "\n",
    "sns.barplot(x=companies['Year Founded'], y=companies['Years To Join'], ci=False)\n",
    "\n",
    "\n",
    "# Set title\n",
    "\n",
    "### YOUR CODE HERE ###\n",
    "\n",
    "plt.title('Bar plot of years to join unicorn with respect to year founded')\n",
    "\n",
    "\n",
    "# Set x-axis label\n",
    "\n",
    "### YOUR CODE HERE ###\n",
    "\n",
    "plt.xlabel('Year Founded')\n",
    "\n",
    "\n",
    "# Set y-axis label\n",
    "\n",
    "### YOUR CODE HERE ###\n",
    "\n",
    "plt.ylabel('Years to join unicorn')\n",
    "\n",
    "\n",
    "# Rotate the labels on the x-axis as a way to avoid overlap in the positions of the text.  \n",
    "\n",
    "### YOUR CODE HERE ###\n",
    "\n",
    "plt.xticks(rotation=45, horizontalalignment='right')\n",
    "\n",
    "# Display the plot.\n",
    "\n",
    "### YOUR CODE HERE ###\n",
    "\n",
    "plt.show()"
   ]
  },
  {
   "cell_type": "markdown",
   "metadata": {
    "id": "xDwKa-UDOmaX"
   },
   "source": [
    "**Question:** What trends do you notice in the data? Specifically, consider companies that were founded later on. How long did it take those companies to reach unicorn status?\n",
    "\n",
    "- There appears to be a trend wherein companies that were founded later took less time to reach unicorn status, on average. \n",
    "\n",
    "**Note:** This is a bias that is common in time data—because companies founded in later years have been around for less time. Therefore, there is less time to collect data on such companies compared to companies founded in earlier years). |"
   ]
  },
  {
   "cell_type": "markdown",
   "metadata": {
    "id": "M9iBEnnStJPJ"
   },
   "source": [
    "### Visualize the number of companies that joined per interval \n",
    "\n",
    "Using the subset of companies joined in the year of interest, grouped by the time interval of your choice, create a bar plot to visualize the number of companies that joined per interval for that year. "
   ]
  },
  {
   "cell_type": "code",
   "execution_count": 121,
   "metadata": {
    "id": "BTdJdubxplHc"
   },
   "outputs": [
    {
     "data": {
      "image/png": "[encoded data removed]",
      "text/plain": [
       "<Figure size 1440x360 with 1 Axes>"
      ]
     },
     "metadata": {
      "needs_background": "light"
     },
     "output_type": "display_data"
    }
   ],
   "source": [
    "# Set the size of the plot.\n",
    "\n",
    "### YOUR CODE HERE ###\n",
    "\n",
    "plt.figure(figsize = (20, 5))\n",
    "\n",
    "# Create bar plot to visualize number of companies that joined per interval for the year of interest.\n",
    "\n",
    "### YOUR CODE HERE ###\n",
    "\n",
    "plt.bar(x=companies_by_week_2021['Week Joined'],height=companies_by_week_2021['Company Count'])\n",
    "plt.plot()\n",
    "\n",
    "# Set the x-axis label.\n",
    "\n",
    "### YOUR CODE HERE ###\n",
    "\n",
    "plt.xlabel(\"Week number\")\n",
    "\n",
    "# Set the y-axis label.\n",
    "\n",
    "### YOUR CODE HERE ###\n",
    "\n",
    "plt.ylabel(\"Number of companies\")\n",
    "\n",
    "# Set the title.\n",
    "\n",
    "### YOUR CODE HERE ###\n",
    "\n",
    "plt.title(\"Number of companies that became unicorns per week in 2021\")\n",
    "\n",
    "# Rotate the labels on the x-axis as a way to avoid overlap in the positions of the text.  \n",
    "\n",
    "### YOUR CODE HERE ###\n",
    "\n",
    "plt.xticks(rotation = 45, horizontalalignment='right', fontsize=8)\n",
    "\n",
    "# Display the plot.\n",
    "\n",
    "### YOUR CODE HERE ###\n",
    "\n",
    "plt.show()"
   ]
  },
  {
   "cell_type": "markdown",
   "metadata": {
    "id": "NEsKdFw8sdMJ"
   },
   "source": [
    "**Question:** What do you observe from the bar plot of the number of companies that joined per interval for the year of 2021? When did the highest number of companies reach $1 billion valuation?\n",
    "\n",
    "- Observations from a bar plot of the number of companies that became unicorns per week in 2021:\n",
    "\n",
    "  - The number of companies that joined unicorn status fluctuated over the weeks of 2021, with a trend of decline followed by increase occurring periodically.\n",
    "  - The highest number of companies reached $1 billion valuation in Week 37 of 2021, which corresponds to the third week of September 2021. \n",
    "  - The weeks in 2021 with the next highest number of companies becoming unicorns are Week 12 (which corresponds to the fourth week of March) and Week 28 (which corresponds to the third week of July). \n",
    "  "
   ]
  },
  {
   "cell_type": "markdown",
   "metadata": {
    "id": "izcgBCbZhC4w"
   },
   "source": [
    "### Visualize the average valuation over the quarters\n",
    "\n",
    "Using the subset of companies that joined in the years of interest, create a grouped bar plot to visualize the average valuation over the quarters, with two bars for each time interval. There will be two bars for each time interval. This allows you to compare quarterly values between the two years."
   ]
  },
  {
   "cell_type": "code",
   "execution_count": 126,
   "metadata": {
    "id": "IC1cFf2ci6Q6"
   },
   "outputs": [
    {
     "data": {
      "image/png": "[encoded data removed]",
      "text/plain": [
       "<Figure size 720x360 with 1 Axes>"
      ]
     },
     "metadata": {
      "needs_background": "light"
     },
     "output_type": "display_data"
    }
   ],
   "source": [
    "# Using slicing, extract the year component and the time interval that you specified, \n",
    "# and save them by adding two new columns into the subset. \n",
    "\n",
    "### YOUR CODE HERE ###\n",
    "\n",
    "companies_by_quarter_valuation_2020_2021['Quarter Number'] = companies_by_quarter_valuation_2020_2021['Quarter Joined'].str[-2:]\n",
    "companies_by_quarter_valuation_2020_2021['Year Joined'] = companies_by_quarter_valuation_2020_2021['Quarter Joined'].str[:4]\n",
    "\n",
    "# Set the size of the plot.\n",
    "\n",
    "### YOUR CODE HERE ###\n",
    "\n",
    "plt.figure(figsize = (10, 5))\n",
    "\n",
    "# Create a grouped bar plot.\n",
    "\n",
    "### YOUR CODE HERE ###\n",
    "\n",
    "sns.barplot(x=companies_by_quarter_valuation_2020_2021['Quarter Number'],\n",
    "            y=companies_by_quarter_valuation_2020_2021['Average Valuation'],\n",
    "            hue=companies_by_quarter_valuation_2020_2021['Year Joined'])\n",
    "plt.plot()\n",
    "\n",
    "# Set the x-axis label.\n",
    "\n",
    "### YOUR CODE HERE ###\n",
    "\n",
    "plt.xlabel(\"Quarter number\")\n",
    "\n",
    "# Set the y-axis label.\n",
    "\n",
    "### YOUR CODE HERE ###\n",
    "\n",
    "plt.ylabel(\"Average valuation (billions of dollars)\")\n",
    "\n",
    "# Set the title.\n",
    "\n",
    "### YOUR CODE HERE ###\n",
    "\n",
    "plt.title(\"Average valuation of companies that became unicorns per quarter in 2020 vs. 2021\")\n",
    "\n",
    "# Display the plot.\n",
    "\n",
    "### YOUR CODE HERE ###\n",
    "\n",
    "plt.show()"
   ]
  },
  {
   "cell_type": "markdown",
   "metadata": {
    "id": "-JSttrHR4v77"
   },
   "source": [
    "**Question:** What do you observe from the preceding grouped bar plot?\n",
    "\n",
    "- Observations from a grouped bar plot of average valuation of companies that became unicorns per quarter in 2020 vs. 2021:\n",
    "\n",
    "  - In each quarter, the average valuation of companies that joined unicorn status was higher in 2020 than in 2021. \n",
    "  - In 2020, Q3 was the quarter with the highest average valuation of companies that reached unicorn status, and there was a trend of increase from Q1 to Q2 and from Q2 to Q3. \n",
    "  - In 2021, Q1 was the quarter with the highest average valuation of companies that reached unicorn status, and there was a trend of decrease across the quarters."
   ]
  },
  {
   "cell_type": "markdown",
   "metadata": {
    "id": "CmStN_ox4wSs"
   },
   "source": [
    "**Question:** Is there any bias in the data that could potentially inform your analysis?\n",
    "\n",
    "- Potential bias:\n",
    "\n",
    "  - If there were bias in terms of which cities and countries were taken into account when collecting the data, then the analysis would be more representative of the cities and countries that are in the dataset than those that are not.\n",
    "  - If the dataset did not include certain industries, then the analysis would be more representative of the industries that are included and may not reflect trends in those that are excluded from the data. \n",
    "  - If the dataset had time gaps, (e.g., if companies that joined in certain windows of time were not included in the data), then that may have affected the patterns observed, depending on how salient the gaps were.\n",
    "  - Another point of bias pertains to the nature of time data; there have been fewer years to collect data on companies that were founded more recently than for companies that were founded longer ago."
   ]
  },
  {
   "cell_type": "markdown",
   "metadata": {
    "id": "9EsEVdiGF9XP"
   },
   "source": [
    "**Question:** What potential next steps could you take with your EDA?\n",
    " \n",
    "- Potential next steps with EDA: \n",
    "\n",
    "  - Analyze the data with respect to industries of unicorn companies at different datetime intervals.\n",
    "  - Analyze the data with respect to cities or countries where unicorn companies were founded at different datetime intervals.\n",
    "  - Clean the data as needed."
   ]
  },
  {
   "cell_type": "markdown",
   "metadata": {
    "id": "9qPL2qMpIF6g"
   },
   "source": [
    "**Question:** Are there any unanswered questions you have about the data? If yes, what are they?\n",
    "\n",
    "- Possible questions:\n",
    "\n",
    "  - How many rounds of funding did each company require and when did this funding take place?\n",
    "  - Have any of these unicorn companies acquired other companies along the way? If so, which companies acquired other companies, which companies did they acquire, and when did the acquisitions take place?"
   ]
  },
  {
   "cell_type": "markdown",
   "metadata": {
    "id": "c77e7f0f-d2b9-4464-8a7c-9575d1e1ef9f"
   },
   "source": [
    "## Considerations\n",
    "\n",
    "**What are some key takeaways that you learned from this lab?**\n",
    "\n",
    "- Functions in the `pandas` library can be used for data manipulation in order to reorganize and structure the data.\n",
    "- Converting strings that contain dates to datetime format allow you to extract individual components from the data, such as month and year.\n",
    "- Structuring the data in specific ways allows you to observe more trends and zoom in on parts of the data that are interesting to you.\n",
    "- Functions in the `matplotlib.pyplot` module and the `seaborn` library can be used to create visualizations to gain further insight after structuring the data.\n",
    "\n",
    "**What findings would you share with others?**\n",
    "\n",
    "- There are 1074 unicorn companies represented in this dataset.\n",
    "- 2015 is the year when the most number of unicorn companies were founded. \n",
    "- Many of the unicorn companies that were founded in 2021 were founded in the United States and belong to \"Fintech\", \"E-commerce & direct-to-consumer\", and \"Internet software & services\" industries. \n",
    "- The box plot created shows that companies that become unicorns in the months of September and October have a smaller median value for how long it took to become unicorns.\n",
    "- One of the bar plots created shows that the average valuation of companies that joined in 2020 is highest in the third quarter of the year, whereas the average valuation of companies that joined in 2021 is highest in the first quarter of the year.\n",
    "\n",
    "**What recommendations would you share with stakeholders based on these findings?**\n",
    "\n",
    "- According to data analysis that was conducted on a dataset of 1074 unicorn companies, companies that joined in the months of September and October tended to take less time to become unicorns.\n",
    "- Another finding was that many of the unicorn companies that were founded in 2021 were founded in the United States and belong to \"Fintech\", \"E-commerce & direct-to-consumer\", and \"Internet software & services\" industries. So if the stakeholders want to invest in companies founded in 2021, it would be a good idea to consider companies that belong to these industries, as they may be strong candidates for becoming unicorns.\n",
    "- It was also discovered that the average valuation of companies that joined in 2021 is highest in the first quarter of the year, and the average valuation of companies that joined in 2020 is the third quarter of the year. When considering companies that newly join in the future, it would be worth closely looking at companies that join in the first and third quarters of the year. \n",
    "- The data can be analyzed further to gather more insights that are specific to the interests of the investing firm and the stakeholders. "
   ]
  }
 ],
 "metadata": {
  "colab": {
   "collapsed_sections": [],
   "provenance": [
    {
     "file_id": "15yNL9B__b83dWYp4FcjSPvb_EInqHS4J",
     "timestamp": 1660007760492
    }
   ]
  },
  "kernelspec": {
   "display_name": "Python 3",
   "language": "python",
   "name": "python3"
  },
  "language_info": {
   "codemirror_mode": {
    "name": "ipython",
    "version": 3
   },
   "file_extension": ".py",
   "mimetype": "text/x-python",
   "name": "python",
   "nbconvert_exporter": "python",
   "pygments_lexer": "ipython3",
   "version": "3.7.6"
  },
  "toc-autonumbering": false,
  "toc-showtags": false
 },
 "nbformat": 4,
 "nbformat_minor": 5
}
